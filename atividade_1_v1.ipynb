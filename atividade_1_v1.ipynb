{
 "cells": [
  {
   "cell_type": "code",
   "execution_count": 1,
   "id": "28994673",
   "metadata": {
    "ExecuteTime": {
     "end_time": "2022-04-01T23:22:54.733067Z",
     "start_time": "2022-04-01T23:22:54.655870Z"
    }
   },
   "outputs": [],
   "source": [
    "# Vinicius da Silva - 206734\n",
    "import gurobipy as gp\n",
    "import numpy as np\n",
    "import time"
   ]
  },
  {
   "cell_type": "code",
   "execution_count": 2,
   "id": "bbfb6217",
   "metadata": {
    "ExecuteTime": {
     "end_time": "2022-04-01T23:22:54.753377Z",
     "start_time": "2022-04-01T23:22:54.735152Z"
    }
   },
   "outputs": [
    {
     "name": "stdout",
     "output_type": "stream",
     "text": [
      "Set parameter Username\n",
      "Academic license - for non-commercial use only - expires 2022-05-29\n"
     ]
    }
   ],
   "source": [
    "#inicializações básicas\n",
    "model = gp.Model()\n",
    "qtd_clientes_J = 200\n",
    "qtd_fabricas_F = np.random.randint(qtd_clientes_J,2*qtd_clientes_J+1)\n",
    "qtd_maquinas_L = np.random.randint(5,11) #usamos 11 pq a função randint é do tipo [menor,maior[\n",
    "qtd_materiais_M = np.random.randint(5,11)\n",
    "qtd_produtos_P = np.random.randint(5,11)\n",
    "\n",
    "print(f\"J={qtd_clientes_J}, F={qtd_fabricas_F}, L={qtd_maquinas_L}, M={qtd_materiais_M}, P={qtd_produtos_P}\")"
   ]
  },
  {
   "cell_type": "code",
   "execution_count": 3,
   "id": "854dfdff",
   "metadata": {
    "ExecuteTime": {
     "end_time": "2022-04-01T23:22:54.765181Z",
     "start_time": "2022-04-01T23:22:54.755052Z"
    }
   },
   "outputs": [],
   "source": [
    "# Parâmetros baseados nas inicializações\n",
    "\n",
    "# demanda do cliente j do produto p\n",
    "demanda_J_P = np.random.randint(10,21,size=(qtd_clientes_J,qtd_produtos_P))\n",
    "\n",
    "# material m necessario para produzir produto p na maquina l\n",
    "material_necessario_M_P_L = np.random.randint(1,6,size=(qtd_materiais_M,qtd_produtos_P,qtd_clientes_J))\n",
    "\n",
    "# material m disponivel na fabrica f\n",
    "material_disponivel_M_F = np.random.randint(800,1001,size=(qtd_materiais_M,qtd_fabricas_F))\n",
    "\n",
    "#capacidade de produção c da máquina l na fábrica f\n",
    "capacidade_disponivel_L_F = np.random.randint(80,101,size=(qtd_maquinas_L,qtd_fabricas_F))\n",
    "\n",
    "#custo de produção do produto p usando a máquina l na fábrica f\n",
    "custo_producao_P_L_F = np.random.randint(10,101,size=(qtd_produtos_P,qtd_maquinas_L,qtd_fabricas_F))\n",
    "\n",
    "# custo de transporte do produto p da fábrica f até o cliente j\n",
    "custo_transporte_P_F_J = np.random.randint(10,21,size=(qtd_produtos_P,qtd_fabricas_F,qtd_clientes_J))"
   ]
  },
  {
   "cell_type": "code",
   "execution_count": 4,
   "id": "436a4749",
   "metadata": {
    "ExecuteTime": {
     "end_time": "2022-04-01T23:22:56.900012Z",
     "start_time": "2022-04-01T23:22:54.766873Z"
    }
   },
   "outputs": [],
   "source": [
    "# Variáveis de decisão\n",
    "\n",
    "start_time = time.time()\n",
    "\n",
    "# Com base no modelo visto em sala, vamos usar o custo produzido e custo transportado de forma separada.\n",
    "# Assim também vamos utilizar a qtd produzida e transportada de forma separada, dado que a minimização da função \n",
    "# é baseada na soma das duas variáveis\n",
    "\n",
    "qtd_produzida = model.addMVar((qtd_produtos_P,qtd_maquinas_L,qtd_fabricas_F),vtype=gp.GRB.CONTINUOUS,name=\"qtd_produzida\")\n",
    "\n",
    "qtd_transportada = model.addMVar((qtd_produtos_P,qtd_fabricas_F,qtd_clientes_J),vtype=gp.GRB.CONTINUOUS,name=\"qtd_transportada\")"
   ]
  },
  {
   "cell_type": "code",
   "execution_count": 5,
   "id": "2a9cdc45",
   "metadata": {
    "ExecuteTime": {
     "end_time": "2022-04-01T23:25:53.102196Z",
     "start_time": "2022-04-01T23:22:56.902060Z"
    }
   },
   "outputs": [],
   "source": [
    "# Restrições\n",
    "\n",
    "# Demanda do cliente: A demanda dos clientes j por cada produto p deve ser igual a soma das toneladas \n",
    "# de cada produto p transportadas de cada fábrica f\n",
    "\n",
    "demanda = model.addConstrs((\n",
    "    gp.quicksum(qtd_transportada[p][f][j] for f in list(range(qtd_fabricas_F))) == demanda_J_P[j][p]\n",
    "    for p in list(range(qtd_produtos_P))\n",
    "    for j in list(range(qtd_clientes_J))\n",
    "),name='demanda')\n"
   ]
  },
  {
   "cell_type": "code",
   "execution_count": 6,
   "id": "ae7e33de",
   "metadata": {
    "ExecuteTime": {
     "end_time": "2022-04-01T23:26:01.180775Z",
     "start_time": "2022-04-01T23:25:53.103405Z"
    }
   },
   "outputs": [],
   "source": [
    "# Restrições\n",
    "\n",
    "# Quantidade de matéria prima: A quantidade de matéria prima m disponível em cada fábrica f deve ser maior ou igual\n",
    "# à quantidade necessária para produzir todos os pedidos feitos (quantidade produzida * quantidade necessaria)\n",
    "\n",
    "material_disponivel = model.addConstrs((\n",
    "    gp.quicksum(\n",
    "        gp.quicksum(material_necessario_M_P_L[m][p][l] * qtd_produzida[p][l][f] for p in list(range(qtd_produtos_P)))\n",
    "        for l in list(range(qtd_maquinas_L))\n",
    "    ) <= material_disponivel_M_F[m][f]\n",
    "    for m in list(range(qtd_materiais_M))\n",
    "    for f in list(range(qtd_fabricas_F))\n",
    "),name='material_disponivel')"
   ]
  },
  {
   "cell_type": "code",
   "execution_count": 7,
   "id": "99a05445",
   "metadata": {
    "ExecuteTime": {
     "end_time": "2022-04-01T23:26:01.587236Z",
     "start_time": "2022-04-01T23:26:01.182696Z"
    }
   },
   "outputs": [],
   "source": [
    "# Restrições\n",
    "\n",
    "# Capacidade disponível de produção: A capacidade disponível de produção deve ser maior ou igual a quantidade total \n",
    "# de produção que deve ser realizada\n",
    "\n",
    "capacidade_producao = model.addConstrs((\n",
    "    gp.quicksum(qtd_produzida[p][l][f] for p in list(range(qtd_produtos_P))) <= capacidade_disponivel_L_F[l][f]\n",
    "    for l in list(range(qtd_maquinas_L))\n",
    "    for f in list(range(qtd_fabricas_F))\n",
    "),name='capacidade_disponivel')"
   ]
  },
  {
   "cell_type": "code",
   "execution_count": 8,
   "id": "e8c87560",
   "metadata": {
    "ExecuteTime": {
     "end_time": "2022-04-01T23:28:58.624070Z",
     "start_time": "2022-04-01T23:26:01.588770Z"
    }
   },
   "outputs": [],
   "source": [
    "# Restrições\n",
    "\n",
    "# Relação entre quantidade transportada e produzida: A quantidade transportada deve ser igual a quantidade produzida\n",
    "\n",
    "relacao_produzida_transportada = model.addConstrs((\n",
    "    gp.quicksum(qtd_produzida[p][l][f] for l in list(range(qtd_maquinas_L))) \n",
    "    == \n",
    "    gp.quicksum(qtd_transportada[p][f][j] for j in list(range(qtd_clientes_J)))\n",
    "    for p in list(range(qtd_produtos_P))\n",
    "    for f in list(range(qtd_fabricas_F))\n",
    "),name='relacao_produzida_transportada')"
   ]
  },
  {
   "cell_type": "code",
   "execution_count": 9,
   "id": "9bdb7739",
   "metadata": {
    "ExecuteTime": {
     "end_time": "2022-04-01T23:31:56.613224Z",
     "start_time": "2022-04-01T23:28:58.625380Z"
    }
   },
   "outputs": [],
   "source": [
    "# Função objetivo\n",
    "\n",
    "# o objetivo é minimizar o custo total de produção de todos os produtos em todas as máquinas de todas as fábricas\n",
    "# somado com o custo total de transporte de todos os produtos levados de todas as fábricas até todos os clientes\n",
    "\n",
    "custo_total_producao = gp.quicksum(\n",
    "    gp.quicksum(\n",
    "        gp.quicksum(qtd_produzida[p][l][f] * custo_producao_P_L_F[p][l][f] for f in list(range(qtd_fabricas_F)))\n",
    "        for l in list(range(qtd_maquinas_L))\n",
    "    )\n",
    "    for p in list(range(qtd_produtos_P))\n",
    ")\n",
    "\n",
    "custo_total_transporte = gp.quicksum(\n",
    "    gp.quicksum(\n",
    "        gp.quicksum(qtd_transportada[p][f][j] * custo_transporte_P_F_J[p][f][j] for j in list(range(qtd_clientes_J)))\n",
    "        for f in list(range(qtd_fabricas_F))\n",
    "    )\n",
    "    for p in list(range(qtd_produtos_P))\n",
    ")\n",
    "\n",
    "model.setObjective(custo_total_producao + custo_total_transporte,sense=gp.GRB.MINIMIZE)"
   ]
  },
  {
   "cell_type": "code",
   "execution_count": 10,
   "id": "81ae91b3",
   "metadata": {
    "ExecuteTime": {
     "end_time": "2022-04-01T23:32:01.529989Z",
     "start_time": "2022-04-01T23:31:56.615618Z"
    }
   },
   "outputs": [
    {
     "name": "stdout",
     "output_type": "stream",
     "text": [
      "Gurobi Optimizer version 9.5.1 build v9.5.1rc2 (linux64)\n",
      "Thread count: 4 physical cores, 8 logical processors, using up to 8 threads\n",
      "Optimize a model with 8775 rows, 524799 columns and 1207791 nonzeros\n",
      "Model fingerprint: 0x54382a94\n",
      "Coefficient statistics:\n",
      "  Matrix range     [1e+00, 5e+00]\n",
      "  Objective range  [1e+01, 1e+02]\n",
      "  Bounds range     [0e+00, 0e+00]\n",
      "  RHS range        [1e+01, 1e+03]\n",
      "\n",
      "Concurrent LP optimizer: dual simplex and barrier\n",
      "Showing barrier log only...\n",
      "\n",
      "Presolve time: 0.62s\n",
      "Presolved: 8775 rows, 524799 columns, 1207791 nonzeros\n",
      "\n",
      "Ordering time: 0.44s\n",
      "\n",
      "Barrier statistics:\n",
      " AA' NZ     : 5.658e+05\n",
      " Factor NZ  : 3.540e+06 (roughly 240 MB of memory)\n",
      " Factor Ops : 3.528e+09 (less than 1 second per iteration)\n",
      " Threads    : 3\n",
      "\n",
      "                  Objective                Residual\n",
      "Iter       Primal          Dual         Primal    Dual     Compl     Time\n",
      "   0   6.82791254e+08  0.00000000e+00  2.17e+04 0.00e+00  3.40e+03     1s\n",
      "   1   7.15842391e+07 -2.81551014e+06  2.28e+03 4.26e-14  3.64e+02     2s\n",
      "   2   1.24962285e+06 -8.76852959e+05  1.10e+00 4.26e-14  4.12e+00     2s\n",
      "   3   8.53531908e+05  4.72955788e+05  1.14e-13 2.84e-14  7.19e-01     2s\n",
      "   4   6.85739565e+05  5.09068241e+05  1.82e-13 2.84e-14  3.34e-01     2s\n",
      "   5   6.38641286e+05  5.26103205e+05  1.87e-13 6.04e-14  2.13e-01     2s\n",
      "   6   6.21588101e+05  5.33305926e+05  4.18e-13 4.97e-14  1.67e-01     2s\n",
      "   7   6.06388418e+05  5.38801159e+05  5.96e-13 2.84e-14  1.28e-01     3s\n",
      "   8   5.96269511e+05  5.40473231e+05  3.20e-12 2.84e-14  1.05e-01     3s\n",
      "   9   5.83162645e+05  5.42891049e+05  1.51e-12 2.84e-14  7.61e-02     3s\n",
      "  10   5.74068373e+05  5.44986432e+05  2.39e-12 2.84e-14  5.49e-02     3s\n",
      "  11   5.65401944e+05  5.46308714e+05  6.13e-12 2.84e-14  3.61e-02     3s\n",
      "  12   5.62249728e+05  5.46452870e+05  5.50e-12 2.84e-14  2.98e-02     3s\n",
      "  13   5.56000626e+05  5.47301018e+05  1.18e-11 2.84e-14  1.64e-02     4s\n",
      "  14   5.51378006e+05  5.47709751e+05  1.04e-11 2.84e-14  6.93e-03     4s\n",
      "  15   5.48220921e+05  5.47883890e+05  1.25e-11 2.84e-14  6.37e-04     4s\n",
      "  16   5.48149003e+05  5.47992256e+05  8.44e-12 2.84e-14  2.96e-04     4s\n",
      "  17   5.48038132e+05  5.48013931e+05  2.72e-11 2.84e-14  4.57e-05     4s\n",
      "  18   5.48027878e+05  5.48025276e+05  7.84e-11 2.84e-14  4.92e-06     4s\n",
      "  19   5.48025778e+05  5.48025768e+05  2.22e-10 2.84e-14  1.93e-08     4s\n",
      "  20   5.48025768e+05  5.48025768e+05  8.74e-12 4.26e-14  1.93e-11     5s\n",
      "\n",
      "Barrier solved model in 20 iterations and 4.61 seconds (4.08 work units)\n",
      "Optimal objective 5.48025768e+05\n",
      "\n",
      "Crossover log...\n",
      "\n",
      "    2072 DPushes remaining with DInf 0.0000000e+00                 5s\n",
      "       0 DPushes remaining with DInf 0.0000000e+00                 5s\n",
      "\n",
      "    5371 PPushes remaining with PInf 0.0000000e+00                 5s\n",
      "       0 PPushes remaining with PInf 0.0000000e+00                 5s\n",
      "\n",
      "  Push phase complete: Pinf 0.0000000e+00, Dinf 5.3290705e-15      5s\n",
      "\n",
      "Iteration    Objective       Primal Inf.    Dual Inf.      Time\n",
      "    7446    5.4802577e+05   0.000000e+00   0.000000e+00      5s\n",
      "\n",
      "Solved with barrier\n",
      "Solved in 7446 iterations and 4.79 seconds (4.19 work units)\n",
      "Optimal objective  5.480257681e+05\n"
     ]
    }
   ],
   "source": [
    "model.optimize()\n",
    "\n",
    "end_time = time.time()"
   ]
  },
  {
   "cell_type": "code",
   "execution_count": null,
   "id": "c7443e31",
   "metadata": {},
   "outputs": [],
   "source": [
    "print(f\"Quantidade de Variáveis  = {sum(qtd_produzida.shape) + sum(qtd_produzida.shape)}\")\n",
    "print(f\"Quantidade de Restrições = {len(demanda) + len(material_disponivel) + len(capacidade_producao) + len(relacao_produzida_transportada)}\")\n",
    "print(f\"Número de Iterações      = {int(model.IterCount)}\")\n",
    "print(f\"Tempo de Execução        = {end_time - start_time} s\")\n",
    "print(f\"Custo da Solução         = {model.objVal}\")"
   ]
  }
 ],
 "metadata": {
  "kernelspec": {
   "display_name": "Python 3 (ipykernel)",
   "language": "python",
   "name": "python3"
  },
  "language_info": {
   "codemirror_mode": {
    "name": "ipython",
    "version": 3
   },
   "file_extension": ".py",
   "mimetype": "text/x-python",
   "name": "python",
   "nbconvert_exporter": "python",
   "pygments_lexer": "ipython3",
   "version": "3.10.4"
  }
 },
 "nbformat": 4,
 "nbformat_minor": 5
}
