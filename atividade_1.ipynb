{
 "cells": [
  {
   "cell_type": "code",
   "execution_count": 1,
   "id": "28994673",
   "metadata": {
    "ExecuteTime": {
     "end_time": "2022-04-01T23:36:25.435516Z",
     "start_time": "2022-04-01T23:36:25.336224Z"
    }
   },
   "outputs": [],
   "source": [
    "# Vinicius da Silva - 206734\n",
    "import gurobipy as gp\n",
    "import numpy as np\n",
    "import time"
   ]
  },
  {
   "cell_type": "markdown",
   "id": "1a2d6066",
   "metadata": {},
   "source": [
    "# Parâmetros"
   ]
  },
  {
   "cell_type": "code",
   "execution_count": 2,
   "id": "bbfb6217",
   "metadata": {
    "ExecuteTime": {
     "end_time": "2022-04-01T23:36:25.441525Z",
     "start_time": "2022-04-01T23:36:25.437462Z"
    }
   },
   "outputs": [
    {
     "name": "stdout",
     "output_type": "stream",
     "text": [
      "J=100, F=173, L=6, M=8, P=9\n"
     ]
    }
   ],
   "source": [
    "# inicializações básicas\n",
    "J = 100\n",
    "F = np.random.randint(J, 2*J+1)\n",
    "L = np.random.randint(5, 11) #usamos 11 pq a função randint é do tipo [menor,maior[\n",
    "M = np.random.randint(5, 11)\n",
    "P = np.random.randint(5, 11)\n",
    "\n",
    "print(f\"{J=}, {F=}, {L=}, {M=}, {P=}\")"
   ]
  },
  {
   "cell_type": "code",
   "execution_count": 3,
   "id": "854dfdff",
   "metadata": {
    "ExecuteTime": {
     "end_time": "2022-04-01T23:36:25.449069Z",
     "start_time": "2022-04-01T23:36:25.443236Z"
    }
   },
   "outputs": [],
   "source": [
    "# Parâmetros baseados nas inicializações\n",
    "\n",
    "# demanda do cliente j do produto p\n",
    "D = np.random.randint(10, 21, size=(J,P))\n",
    "# material m disponivel na fabrica f\n",
    "R = np.random.randint(800, 1001, size=(M,F))\n",
    "#capacidade de produção c da máquina l na fábrica f\n",
    "C = np.random.randint(80, 101, size=(L,F))\n",
    "\n",
    "# material m necessario para produzir produto p na maquina l\n",
    "mr = np.random.randint(1, 6, size=(M,P,L))\n",
    "# custo de produção do produto p usando a máquina l na fábrica f\n",
    "cp = np.random.randint(10, 101, size=(P,L,F))\n",
    "# custo de transporte do produto p da fábrica f até o cliente j\n",
    "ct = np.random.randint(10, 21, size=(P,F,J))"
   ]
  },
  {
   "cell_type": "markdown",
   "id": "38abc00b",
   "metadata": {},
   "source": [
    "# Variáveis de decisão"
   ]
  },
  {
   "cell_type": "code",
   "execution_count": 4,
   "id": "436a4749",
   "metadata": {
    "ExecuteTime": {
     "end_time": "2022-04-01T23:36:26.193707Z",
     "start_time": "2022-04-01T23:36:25.450784Z"
    }
   },
   "outputs": [
    {
     "name": "stdout",
     "output_type": "stream",
     "text": [
      "Set parameter Username\n",
      "Academic license - for non-commercial use only - expires 2022-05-29\n"
     ]
    }
   ],
   "source": [
    "# Com base no modelo visto em sala, vamos usar o custo produzido e custo transportado de forma separada.\n",
    "# Assim também vamos utilizar a qtd produzida e transportada de forma separada, dado que a minimização da função \n",
    "# é baseada na soma das duas variáveis\n",
    "\n",
    "start_time = time.time()\n",
    "model = gp.Model()\n",
    "px = model.addMVar((P, L, F), lb=0.0, vtype=gp.GRB.CONTINUOUS, name=\"qtd_produzida\")\n",
    "py = model.addMVar((P, F, J), lb=0.0, vtype=gp.GRB.CONTINUOUS, name=\"qtd_transportada\")"
   ]
  },
  {
   "cell_type": "code",
   "execution_count": 5,
   "id": "d6aa0b2a",
   "metadata": {
    "ExecuteTime": {
     "end_time": "2022-04-01T23:36:26.198725Z",
     "start_time": "2022-04-01T23:36:26.194908Z"
    }
   },
   "outputs": [
    {
     "name": "stdout",
     "output_type": "stream",
     "text": [
      "Quantidade de Variáveis  = 470\n"
     ]
    }
   ],
   "source": [
    "print(f\"Quantidade de Variáveis  = {sum(px.shape) + sum(py.shape)}\")"
   ]
  },
  {
   "cell_type": "markdown",
   "id": "61edb746",
   "metadata": {},
   "source": [
    "# Restrições"
   ]
  },
  {
   "cell_type": "code",
   "execution_count": 6,
   "id": "2a9cdc45",
   "metadata": {
    "ExecuteTime": {
     "end_time": "2022-04-01T23:36:36.447963Z",
     "start_time": "2022-04-01T23:36:26.200302Z"
    }
   },
   "outputs": [],
   "source": [
    "# Demanda do cliente: A demanda dos clientes j por cada produto p deve ser igual a soma das toneladas \n",
    "# de cada produto p transportadas de cada fábrica f\n",
    "r0 = model.addConstrs((\n",
    "    gp.quicksum(py[p][f][j] for f in range(F)) == D[j][p]\n",
    "    for p in range(P)\n",
    "    for j in range(J)\n",
    "), name='demanda');"
   ]
  },
  {
   "cell_type": "code",
   "execution_count": 7,
   "id": "ae7e33de",
   "metadata": {
    "ExecuteTime": {
     "end_time": "2022-04-01T23:36:39.534006Z",
     "start_time": "2022-04-01T23:36:36.449253Z"
    }
   },
   "outputs": [],
   "source": [
    "# Quantidade de matéria prima: A quantidade de matéria prima m disponível em cada fábrica f deve ser maior ou igual\n",
    "# à quantidade necessária para produzir todos os pedidos feitos (quantidade produzida * quantidade necessaria)\n",
    "r1 = model.addConstrs((\n",
    "    gp.quicksum(mr[m][p][l] * px[p][l][f] for p in range(P) for l in range(L)) <= R[m][f]\n",
    "    for m in range(M)\n",
    "    for f in range(F)\n",
    "), name='material_disponivel');"
   ]
  },
  {
   "cell_type": "code",
   "execution_count": 8,
   "id": "99a05445",
   "metadata": {
    "ExecuteTime": {
     "end_time": "2022-04-01T23:36:39.685669Z",
     "start_time": "2022-04-01T23:36:39.535164Z"
    }
   },
   "outputs": [],
   "source": [
    "# Capacidade disponível de produção: A capacidade disponível de produção deve ser maior ou igual a quantidade total \n",
    "# de produção que deve ser realizada\n",
    "r2 = model.addConstrs((\n",
    "    gp.quicksum(px[p][l][f] for p in range(P)) <= C[l][f]\n",
    "    for l in range(L)\n",
    "    for f in range(F)\n",
    "), name='capacidade_disponivel');"
   ]
  },
  {
   "cell_type": "code",
   "execution_count": 9,
   "id": "e8c87560",
   "metadata": {
    "ExecuteTime": {
     "end_time": "2022-04-01T23:36:49.836130Z",
     "start_time": "2022-04-01T23:36:39.687224Z"
    }
   },
   "outputs": [],
   "source": [
    "# Relação entre quantidade transportada e produzida: A quantidade transportada deve ser igual a quantidade produzida\n",
    "r3 = model.addConstrs((\n",
    "    gp.quicksum(px[p][l][f] for l in range(L)) == gp.quicksum(py[p][f][j] for j in range(J))\n",
    "    for p in range(P)\n",
    "    for f in range(F)\n",
    "), name='relacao_produzida_transportada');"
   ]
  },
  {
   "cell_type": "code",
   "execution_count": 10,
   "id": "bf1f96dc",
   "metadata": {
    "ExecuteTime": {
     "end_time": "2022-04-01T23:36:49.843305Z",
     "start_time": "2022-04-01T23:36:49.839194Z"
    }
   },
   "outputs": [
    {
     "name": "stdout",
     "output_type": "stream",
     "text": [
      "Quantidade de Restrições = 4879\n"
     ]
    }
   ],
   "source": [
    "print(f\"Quantidade de Restrições = {len(r0) + len(r1) + len(r2) + len(r3)}\")"
   ]
  },
  {
   "cell_type": "markdown",
   "id": "d28e9019",
   "metadata": {},
   "source": [
    "# Função objetivo"
   ]
  },
  {
   "cell_type": "code",
   "execution_count": 11,
   "id": "9bdb7739",
   "metadata": {
    "ExecuteTime": {
     "end_time": "2022-04-01T23:37:16.514472Z",
     "start_time": "2022-04-01T23:36:49.844890Z"
    }
   },
   "outputs": [],
   "source": [
    "# o objetivo é minimizar o custo total de produção de todos os produtos em todas as máquinas de todas as fábricas\n",
    "# somado com o custo total de transporte de todos os produtos levados de todas as fábricas até todos os clientes\n",
    "\n",
    "custo_producao = gp.quicksum(px[p][l][f] * cp[p][l][f] for f in range(F) for l in range(L) for p in range(P))\n",
    "custo_transporte = gp.quicksum(py[p][f][j] * ct[p][f][j] for j in range(J) for f in range(F) for p in range(P))\n",
    "\n",
    "model.setObjective(custo_producao + custo_transporte, sense=gp.GRB.MINIMIZE)"
   ]
  },
  {
   "cell_type": "markdown",
   "id": "a3c06bdf",
   "metadata": {},
   "source": [
    "# Resultado"
   ]
  },
  {
   "cell_type": "code",
   "execution_count": 12,
   "id": "81ae91b3",
   "metadata": {
    "ExecuteTime": {
     "end_time": "2022-04-01T23:37:17.823191Z",
     "start_time": "2022-04-01T23:37:16.516048Z"
    }
   },
   "outputs": [
    {
     "name": "stdout",
     "output_type": "stream",
     "text": [
      "Gurobi Optimizer version 9.5.1 build v9.5.1rc2 (linux64)\n",
      "Thread count: 4 physical cores, 8 logical processors, using up to 8 threads\n",
      "Optimize a model with 4879 rows, 165042 columns and 404820 nonzeros\n",
      "Model fingerprint: 0x1043f664\n",
      "Coefficient statistics:\n",
      "  Matrix range     [1e+00, 5e+00]\n",
      "  Objective range  [1e+01, 1e+02]\n",
      "  Bounds range     [0e+00, 0e+00]\n",
      "  RHS range        [1e+01, 1e+03]\n",
      "\n",
      "Concurrent LP optimizer: dual simplex and barrier\n",
      "Showing barrier log only...\n",
      "\n",
      "Presolve time: 0.24s\n",
      "Presolved: 4879 rows, 165042 columns, 404820 nonzeros\n",
      "\n",
      "Ordering time: 0.13s\n",
      "\n",
      "Barrier statistics:\n",
      " AA' NZ     : 1.906e+05\n",
      " Factor NZ  : 1.304e+06 (roughly 80 MB of memory)\n",
      " Factor Ops : 7.860e+08 (less than 1 second per iteration)\n",
      " Threads    : 3\n",
      "\n",
      "                  Objective                Residual\n",
      "Iter       Primal          Dual         Primal    Dual     Compl     Time\n",
      "   0   2.71873525e+08  0.00000000e+00  1.64e+04 0.00e+00  4.24e+03     1s\n",
      "   1   2.77426312e+07 -1.87622376e+06  1.71e+03 4.26e-14  4.48e+02     1s\n",
      "   2   6.07689300e+05 -4.80798150e+05  1.56e+00 4.26e-14  6.74e+00     1s\n",
      "   3   4.27442230e+05  2.19411543e+05  1.10e-13 3.02e-14  1.24e+00     1s\n",
      "   4   3.52762351e+05  2.55670479e+05  1.13e-13 2.84e-14  5.80e-01     1s\n",
      "   5   3.29632974e+05  2.64565775e+05  3.38e-13 2.84e-14  3.89e-01     1s\n",
      "   6   3.18148600e+05  2.70173334e+05  2.56e-13 2.84e-14  2.86e-01     1s\n",
      "   7   3.06868611e+05  2.73558595e+05  3.57e-13 2.84e-14  1.99e-01     1s\n",
      "   8   3.00945236e+05  2.74984356e+05  6.27e-13 2.84e-14  1.55e-01     1s\n",
      "   9   2.93074380e+05  2.76139718e+05  7.39e-13 2.84e-14  1.01e-01     1s\n",
      "  10   2.86217463e+05  2.77012556e+05  1.88e-12 2.84e-14  5.50e-02     1s\n",
      "  11   2.82145980e+05  2.77522770e+05  3.27e-12 2.84e-14  2.76e-02     1s\n",
      "  12   2.79532322e+05  2.77693972e+05  1.67e-11 2.84e-14  1.10e-02     1s\n",
      "  13   2.77992793e+05  2.77840799e+05  5.53e-12 4.26e-14  9.08e-04     1s\n",
      "  14   2.77844375e+05  2.77843168e+05  5.30e-10 2.84e-14  7.21e-06     1s\n",
      "  15   2.77843201e+05  2.77843200e+05  2.75e-10 2.84e-14  7.21e-09     1s\n",
      "\n",
      "Barrier solved model in 15 iterations and 1.24 seconds (0.95 work units)\n",
      "Optimal objective 2.77843201e+05\n",
      "\n",
      "\n",
      "Solved with dual simplex\n",
      "Solved in 7871 iterations and 1.26 seconds (1.06 work units)\n",
      "Optimal objective  2.778432000e+05\n"
     ]
    }
   ],
   "source": [
    "model.optimize()\n",
    "end_time = time.time()"
   ]
  },
  {
   "cell_type": "code",
   "execution_count": 13,
   "id": "c7443e31",
   "metadata": {
    "ExecuteTime": {
     "end_time": "2022-04-01T23:37:17.827585Z",
     "start_time": "2022-04-01T23:37:17.824743Z"
    }
   },
   "outputs": [
    {
     "name": "stdout",
     "output_type": "stream",
     "text": [
      "Número de Iterações      = 7871\n",
      "Tempo de Execução        = 52.36984944343567 s\n",
      "Custo da Solução         = 277843.2\n"
     ]
    }
   ],
   "source": [
    "print(f\"Número de Iterações      = {int(model.IterCount)}\")\n",
    "print(f\"Tempo de Execução        = {end_time - start_time} s\")\n",
    "print(f\"Custo da Solução         = {model.objVal}\")"
   ]
  }
 ],
 "metadata": {
  "kernelspec": {
   "display_name": "Python 3 (ipykernel)",
   "language": "python",
   "name": "python3"
  },
  "language_info": {
   "codemirror_mode": {
    "name": "ipython",
    "version": 3
   },
   "file_extension": ".py",
   "mimetype": "text/x-python",
   "name": "python",
   "nbconvert_exporter": "python",
   "pygments_lexer": "ipython3",
   "version": "3.10.4"
  }
 },
 "nbformat": 4,
 "nbformat_minor": 5
}
