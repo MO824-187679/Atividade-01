{
 "cells": [
  {
   "cell_type": "code",
   "execution_count": 1,
   "id": "28994673",
   "metadata": {
    "ExecuteTime": {
     "end_time": "2022-04-02T01:07:05.562315Z",
     "start_time": "2022-04-02T01:07:05.464607Z"
    }
   },
   "outputs": [],
   "source": [
    "# Vinicius da Silva - 206734\n",
    "import gurobipy as gp\n",
    "import numpy as np\n",
    "import time"
   ]
  },
  {
   "cell_type": "markdown",
   "id": "d869846a",
   "metadata": {},
   "source": [
    "# Parâmetros"
   ]
  },
  {
   "cell_type": "code",
   "execution_count": 2,
   "id": "bbfb6217",
   "metadata": {
    "ExecuteTime": {
     "end_time": "2022-04-02T01:07:05.568360Z",
     "start_time": "2022-04-02T01:07:05.564153Z"
    }
   },
   "outputs": [
    {
     "name": "stdout",
     "output_type": "stream",
     "text": [
      "J=100, F=162, L=6, M=7, P=5\n"
     ]
    }
   ],
   "source": [
    "# inicializações básicas\n",
    "J = 100\n",
    "F = np.random.randint(J, 2*J+1)\n",
    "L = np.random.randint(5, 11) #usamos 11 pq a função randint é do tipo [menor,maior[\n",
    "M = np.random.randint(5, 11)\n",
    "P = np.random.randint(5, 11)\n",
    "\n",
    "print(f\"{J=}, {F=}, {L=}, {M=}, {P=}\")"
   ]
  },
  {
   "cell_type": "code",
   "execution_count": 3,
   "id": "854dfdff",
   "metadata": {
    "ExecuteTime": {
     "end_time": "2022-04-02T01:07:05.575923Z",
     "start_time": "2022-04-02T01:07:05.570022Z"
    }
   },
   "outputs": [],
   "source": [
    "# Parâmetros baseados nas inicializações\n",
    "\n",
    "# demanda do cliente j do produto p\n",
    "D = np.random.randint(10, 21, size=(J,P))\n",
    "# material m disponivel na fabrica f\n",
    "R = np.random.randint(800, 1001, size=(M,F))\n",
    "#capacidade de produção c da máquina l na fábrica f\n",
    "C = np.random.randint(80, 101, size=(L,F))\n",
    "\n",
    "# material m necessario para produzir produto p na maquina l\n",
    "mr = np.random.randint(1, 6, size=(M,P,L))\n",
    "# custo de produção do produto p usando a máquina l na fábrica f\n",
    "cp = np.random.randint(10, 101, size=(P,L,F))\n",
    "# custo de transporte do produto p da fábrica f até o cliente j\n",
    "ct = np.random.randint(10, 21, size=(P,F,J))"
   ]
  },
  {
   "cell_type": "markdown",
   "id": "9eb00c83",
   "metadata": {},
   "source": [
    "# Variáveis de decisão"
   ]
  },
  {
   "cell_type": "code",
   "execution_count": 4,
   "id": "436a4749",
   "metadata": {
    "ExecuteTime": {
     "end_time": "2022-04-02T01:07:05.954622Z",
     "start_time": "2022-04-02T01:07:05.578795Z"
    }
   },
   "outputs": [
    {
     "name": "stdout",
     "output_type": "stream",
     "text": [
      "Set parameter Username\n",
      "Academic license - for non-commercial use only - expires 2022-05-29\n"
     ]
    }
   ],
   "source": [
    "# Com base no modelo visto em sala, vamos usar o custo produzido e custo transportado de forma separada.\n",
    "# Assim também vamos utilizar a qtd produzida e transportada de forma separada, dado que a minimização da função \n",
    "# é baseada na soma das duas variáveis\n",
    "\n",
    "start_time = time.time()\n",
    "model = gp.Model()\n",
    "px = model.addMVar((P, L, F), lb=0.0, vtype=gp.GRB.CONTINUOUS, name=\"qtd_produzida\")\n",
    "py = model.addMVar((P, F, J), lb=0.0, vtype=gp.GRB.CONTINUOUS, name=\"qtd_transportada\")"
   ]
  },
  {
   "cell_type": "code",
   "execution_count": 5,
   "id": "6279dfd4",
   "metadata": {
    "ExecuteTime": {
     "end_time": "2022-04-02T01:07:05.959663Z",
     "start_time": "2022-04-02T01:07:05.956528Z"
    }
   },
   "outputs": [
    {
     "name": "stdout",
     "output_type": "stream",
     "text": [
      "Quantidade de Variáveis  = 85860\n"
     ]
    }
   ],
   "source": [
    "print(f\"Quantidade de Variáveis  = {np.prod(px.shape) + np.prod(py.shape)}\")"
   ]
  },
  {
   "cell_type": "markdown",
   "id": "84494ec2",
   "metadata": {},
   "source": [
    "# Restrições"
   ]
  },
  {
   "cell_type": "code",
   "execution_count": 6,
   "id": "2a9cdc45",
   "metadata": {
    "ExecuteTime": {
     "end_time": "2022-04-02T01:07:11.252696Z",
     "start_time": "2022-04-02T01:07:05.961978Z"
    }
   },
   "outputs": [],
   "source": [
    "# Demanda do cliente: A demanda dos clientes j por cada produto p deve ser igual a soma das toneladas \n",
    "# de cada produto p transportadas de cada fábrica f\n",
    "r0 = model.addConstrs((\n",
    "    gp.quicksum(py[p][f][j] for f in range(F)) == D[j][p]\n",
    "    for p in range(P)\n",
    "    for j in range(J)\n",
    "), name='demanda');"
   ]
  },
  {
   "cell_type": "code",
   "execution_count": 7,
   "id": "ae7e33de",
   "metadata": {
    "ExecuteTime": {
     "end_time": "2022-04-02T01:07:12.735913Z",
     "start_time": "2022-04-02T01:07:11.254512Z"
    }
   },
   "outputs": [],
   "source": [
    "# Quantidade de matéria prima: A quantidade de matéria prima m disponível em cada fábrica f deve ser maior ou igual\n",
    "# à quantidade necessária para produzir todos os pedidos feitos (quantidade produzida * quantidade necessaria)\n",
    "r1 = model.addConstrs((\n",
    "    gp.quicksum(mr[m][p][l] * px[p][l][f] for p in range(P) for l in range(L)) <= R[m][f]\n",
    "    for m in range(M)\n",
    "    for f in range(F)\n",
    "), name='material_disponivel');"
   ]
  },
  {
   "cell_type": "code",
   "execution_count": 8,
   "id": "99a05445",
   "metadata": {
    "ExecuteTime": {
     "end_time": "2022-04-02T01:07:12.817170Z",
     "start_time": "2022-04-02T01:07:12.737474Z"
    }
   },
   "outputs": [],
   "source": [
    "# Capacidade disponível de produção: A capacidade disponível de produção deve ser maior ou igual a quantidade total \n",
    "# de produção que deve ser realizada\n",
    "r2 = model.addConstrs((\n",
    "    gp.quicksum(px[p][l][f] for p in range(P)) <= C[l][f]\n",
    "    for l in range(L)\n",
    "    for f in range(F)\n",
    "), name='capacidade_disponivel');"
   ]
  },
  {
   "cell_type": "code",
   "execution_count": 9,
   "id": "e8c87560",
   "metadata": {
    "ExecuteTime": {
     "end_time": "2022-04-02T01:07:18.307987Z",
     "start_time": "2022-04-02T01:07:12.818597Z"
    }
   },
   "outputs": [],
   "source": [
    "# Relação entre quantidade transportada e produzida: A quantidade transportada deve ser igual a quantidade produzida\n",
    "r3 = model.addConstrs((\n",
    "    gp.quicksum(px[p][l][f] for l in range(L)) == gp.quicksum(py[p][f][j] for j in range(J))\n",
    "    for p in range(P)\n",
    "    for f in range(F)\n",
    "), name='relacao_produzida_transportada');"
   ]
  },
  {
   "cell_type": "code",
   "execution_count": 10,
   "id": "9e721372",
   "metadata": {
    "ExecuteTime": {
     "end_time": "2022-04-02T01:07:18.315086Z",
     "start_time": "2022-04-02T01:07:18.310694Z"
    }
   },
   "outputs": [
    {
     "name": "stdout",
     "output_type": "stream",
     "text": [
      "Quantidade de Restrições = 3416\n"
     ]
    }
   ],
   "source": [
    "print(f\"Quantidade de Restrições = {len(r0) + len(r1) + len(r2) + len(r3)}\")"
   ]
  },
  {
   "cell_type": "markdown",
   "id": "b184f0c3",
   "metadata": {},
   "source": [
    "# Função objetivo"
   ]
  },
  {
   "cell_type": "code",
   "execution_count": 11,
   "id": "9bdb7739",
   "metadata": {
    "ExecuteTime": {
     "end_time": "2022-04-02T01:07:28.134015Z",
     "start_time": "2022-04-02T01:07:18.316962Z"
    }
   },
   "outputs": [],
   "source": [
    "# o objetivo é minimizar o custo total de produção de todos os produtos em todas as máquinas de todas as fábricas\n",
    "# somado com o custo total de transporte de todos os produtos levados de todas as fábricas até todos os clientes\n",
    "\n",
    "custo_producao = gp.quicksum(px[p][l][f] * cp[p][l][f] for f in range(F) for l in range(L) for p in range(P))\n",
    "custo_transporte = gp.quicksum(py[p][f][j] * ct[p][f][j] for j in range(J) for f in range(F) for p in range(P))\n",
    "\n",
    "model.setObjective(custo_producao + custo_transporte, sense=gp.GRB.MINIMIZE)"
   ]
  },
  {
   "cell_type": "markdown",
   "id": "7b37daaa",
   "metadata": {},
   "source": [
    "# Resultado"
   ]
  },
  {
   "cell_type": "code",
   "execution_count": 12,
   "id": "81ae91b3",
   "metadata": {
    "ExecuteTime": {
     "end_time": "2022-04-02T01:07:28.653739Z",
     "start_time": "2022-04-02T01:07:28.135729Z"
    }
   },
   "outputs": [
    {
     "name": "stdout",
     "output_type": "stream",
     "text": [
      "Gurobi Optimizer version 9.5.1 build v9.5.1rc2 (linux64)\n",
      "Thread count: 4 physical cores, 8 logical processors, using up to 8 threads\n",
      "Optimize a model with 3416 rows, 85860 columns and 205740 nonzeros\n",
      "Model fingerprint: 0x3539029c\n",
      "Coefficient statistics:\n",
      "  Matrix range     [1e+00, 5e+00]\n",
      "  Objective range  [1e+01, 1e+02]\n",
      "  Bounds range     [0e+00, 0e+00]\n",
      "  RHS range        [1e+01, 1e+03]\n",
      "\n",
      "Concurrent LP optimizer: dual simplex and barrier\n",
      "Showing barrier log only...\n",
      "\n",
      "Presolve time: 0.11s\n",
      "Presolved: 3416 rows, 85860 columns, 205740 nonzeros\n",
      "\n",
      "Ordering time: 0.01s\n",
      "\n",
      "Barrier statistics:\n",
      " AA' NZ     : 1.017e+05\n",
      " Factor NZ  : 3.947e+05 (roughly 40 MB of memory)\n",
      " Factor Ops : 1.309e+08 (less than 1 second per iteration)\n",
      " Threads    : 3\n",
      "\n",
      "                  Objective                Residual\n",
      "Iter       Primal          Dual         Primal    Dual     Compl     Time\n",
      "   0   1.77657135e+08  0.00000000e+00  1.93e+04 0.00e+00  5.31e+03     0s\n",
      "   1   1.46782707e+07 -1.90510373e+06  1.62e+03 4.26e-14  4.59e+02     0s\n",
      "   2   3.25197549e+05 -2.64349981e+05  5.73e-01 4.26e-14  6.79e+00     0s\n",
      "   3   2.34238524e+05  1.21305770e+05  5.33e-14 2.84e-14  1.28e+00     0s\n",
      "   4   1.95052365e+05  1.37473586e+05  1.07e-13 2.84e-14  6.55e-01     0s\n",
      "   5   1.85565564e+05  1.40058100e+05  7.83e-14 4.26e-14  5.17e-01     0s\n",
      "   6   1.75666408e+05  1.46072400e+05  8.73e-12 2.84e-14  3.36e-01     0s\n",
      "   7   1.68869685e+05  1.48429693e+05  1.97e-11 2.84e-14  2.32e-01     0s\n",
      "   8   1.61507053e+05  1.49972649e+05  2.03e-11 2.84e-14  1.31e-01     0s\n",
      "   9   1.56603349e+05  1.51317620e+05  7.81e-12 2.84e-14  6.01e-02     0s\n",
      "  10   1.53586012e+05  1.51626641e+05  1.14e-11 2.84e-14  2.23e-02     0s\n",
      "  11   1.52647688e+05  1.51809527e+05  1.06e-10 2.84e-14  9.53e-03     0s\n",
      "  12   1.51946050e+05  1.51845798e+05  5.58e-11 2.84e-14  1.14e-03     0s\n",
      "  13   1.51850543e+05  1.51850385e+05  1.64e-10 2.84e-14  1.80e-06     0s\n",
      "  14   1.51850400e+05  1.51850400e+05  1.13e-09 2.84e-14  1.81e-12     0s\n",
      "\n",
      "Barrier solved model in 14 iterations and 0.45 seconds (0.32 work units)\n",
      "Optimal objective 1.51850400e+05\n",
      "\n",
      "Crossover log...\n",
      "\n",
      "     679 DPushes remaining with DInf 0.0000000e+00                 0s\n",
      "       0 DPushes remaining with DInf 0.0000000e+00                 0s\n",
      "\n",
      "     560 PPushes remaining with PInf 0.0000000e+00                 0s\n",
      "       0 PPushes remaining with PInf 0.0000000e+00                 0s\n",
      "\n",
      "  Push phase complete: Pinf 0.0000000e+00, Dinf 0.0000000e+00      0s\n",
      "\n",
      "Iteration    Objective       Primal Inf.    Dual Inf.      Time\n",
      "    1242    1.5185040e+05   0.000000e+00   0.000000e+00      0s\n",
      "\n",
      "Solved with barrier\n",
      "Solved in 1242 iterations and 0.49 seconds (0.34 work units)\n",
      "Optimal objective  1.518504000e+05\n"
     ]
    }
   ],
   "source": [
    "model.optimize()\n",
    "end_time = time.time()"
   ]
  },
  {
   "cell_type": "code",
   "execution_count": 13,
   "id": "c7443e31",
   "metadata": {
    "ExecuteTime": {
     "end_time": "2022-04-02T01:07:28.662989Z",
     "start_time": "2022-04-02T01:07:28.655537Z"
    }
   },
   "outputs": [
    {
     "name": "stdout",
     "output_type": "stream",
     "text": [
      "Número de Iterações      = 1242\n",
      "Tempo de Execução        = 23.07141923904419 s\n",
      "Custo da Solução         = 151850.4\n"
     ]
    }
   ],
   "source": [
    "print(f\"Número de Iterações      = {int(model.IterCount)}\")\n",
    "print(f\"Tempo de Execução        = {end_time - start_time} s\")\n",
    "print(f\"Custo da Solução         = {model.objVal}\")"
   ]
  },
  {
   "cell_type": "raw",
   "id": "4fea8584",
   "metadata": {},
   "source": [
    "r0"
   ]
  }
 ],
 "metadata": {
  "kernelspec": {
   "display_name": "Python 3 (ipykernel)",
   "language": "python",
   "name": "python3"
  },
  "language_info": {
   "codemirror_mode": {
    "name": "ipython",
    "version": 3
   },
   "file_extension": ".py",
   "mimetype": "text/x-python",
   "name": "python",
   "nbconvert_exporter": "python",
   "pygments_lexer": "ipython3",
   "version": "3.10.4"
  }
 },
 "nbformat": 4,
 "nbformat_minor": 5
}
