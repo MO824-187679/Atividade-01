{
 "cells": [
  {
   "cell_type": "code",
   "execution_count": 1,
   "id": "28994673",
   "metadata": {
    "ExecuteTime": {
     "end_time": "2022-04-02T00:12:06.121634Z",
     "start_time": "2022-04-02T00:12:06.016797Z"
    }
   },
   "outputs": [],
   "source": [
    "# Vinicius da Silva - 206734\n",
    "import gurobipy as gp\n",
    "import numpy as np\n",
    "import time"
   ]
  },
  {
   "cell_type": "markdown",
   "id": "0aa5323b",
   "metadata": {},
   "source": [
    "# Parâmetros"
   ]
  },
  {
   "cell_type": "code",
   "execution_count": 2,
   "id": "bbfb6217",
   "metadata": {
    "ExecuteTime": {
     "end_time": "2022-04-02T00:12:06.127742Z",
     "start_time": "2022-04-02T00:12:06.123534Z"
    }
   },
   "outputs": [
    {
     "name": "stdout",
     "output_type": "stream",
     "text": [
      "J=100, F=150, L=7, M=9, P=8\n"
     ]
    }
   ],
   "source": [
    "# inicializações básicas\n",
    "J = 100\n",
    "F = np.random.randint(J, 2*J+1)\n",
    "L = np.random.randint(5, 11) #usamos 11 pq a função randint é do tipo [menor,maior[\n",
    "M = np.random.randint(5, 11)\n",
    "P = np.random.randint(5, 11)\n",
    "\n",
    "print(f\"{J=}, {F=}, {L=}, {M=}, {P=}\")"
   ]
  },
  {
   "cell_type": "code",
   "execution_count": 3,
   "id": "854dfdff",
   "metadata": {
    "ExecuteTime": {
     "end_time": "2022-04-02T00:12:06.136007Z",
     "start_time": "2022-04-02T00:12:06.129036Z"
    }
   },
   "outputs": [],
   "source": [
    "# Parâmetros baseados nas inicializações\n",
    "\n",
    "# demanda do cliente j do produto p\n",
    "D = np.random.randint(10, 21, size=(J,P))\n",
    "# material m disponivel na fabrica f\n",
    "R = np.random.randint(800, 1001, size=(M,F))\n",
    "#capacidade de produção c da máquina l na fábrica f\n",
    "C = np.random.randint(80, 101, size=(L,F))\n",
    "\n",
    "# material m necessario para produzir produto p na maquina l\n",
    "mr = np.random.randint(1, 6, size=(M,P,L))\n",
    "# custo de produção do produto p usando a máquina l na fábrica f\n",
    "cp = np.random.randint(10, 101, size=(P,L,F))\n",
    "# custo de transporte do produto p da fábrica f até o cliente j\n",
    "ct = np.random.randint(10, 21, size=(P,F,J))"
   ]
  },
  {
   "cell_type": "markdown",
   "id": "e50ed022",
   "metadata": {},
   "source": [
    "# Variáveis de decisão"
   ]
  },
  {
   "cell_type": "code",
   "execution_count": 4,
   "id": "436a4749",
   "metadata": {
    "ExecuteTime": {
     "end_time": "2022-04-02T00:12:06.698468Z",
     "start_time": "2022-04-02T00:12:06.137672Z"
    }
   },
   "outputs": [
    {
     "name": "stdout",
     "output_type": "stream",
     "text": [
      "Set parameter Username\n",
      "Academic license - for non-commercial use only - expires 2022-05-29\n"
     ]
    }
   ],
   "source": [
    "# Com base no modelo visto em sala, vamos usar o custo produzido e custo transportado de forma separada.\n",
    "# Assim também vamos utilizar a qtd produzida e transportada de forma separada, dado que a minimização da função \n",
    "# é baseada na soma das duas variáveis\n",
    "\n",
    "start_time = time.time()\n",
    "model = gp.Model()\n",
    "px = model.addMVar((P, L, F), lb=0.0, vtype=gp.GRB.CONTINUOUS, name=\"qtd_produzida\")\n",
    "py = model.addMVar((P, F, J), lb=0.0, vtype=gp.GRB.CONTINUOUS, name=\"qtd_transportada\")"
   ]
  },
  {
   "cell_type": "code",
   "execution_count": 5,
   "id": "d810f3dd",
   "metadata": {
    "ExecuteTime": {
     "end_time": "2022-04-02T00:12:06.708618Z",
     "start_time": "2022-04-02T00:12:06.699705Z"
    }
   },
   "outputs": [
    {
     "data": {
      "text/plain": [
       "(100, 128400, 840000)"
      ]
     },
     "execution_count": 5,
     "metadata": {},
     "output_type": "execute_result"
    }
   ],
   "source": [
    "J, P*L*F + P*F*J, P*L*F*J"
   ]
  },
  {
   "cell_type": "code",
   "execution_count": 6,
   "id": "f4fedb4c",
   "metadata": {
    "ExecuteTime": {
     "end_time": "2022-04-02T00:12:06.712710Z",
     "start_time": "2022-04-02T00:12:06.709795Z"
    }
   },
   "outputs": [
    {
     "name": "stdout",
     "output_type": "stream",
     "text": [
      "Quantidade de Variáveis  = 128400\n"
     ]
    }
   ],
   "source": [
    "print(f\"Quantidade de Variáveis  = {np.prod(px.shape) + np.prod(py.shape)}\")"
   ]
  },
  {
   "cell_type": "markdown",
   "id": "fefb7fd3",
   "metadata": {},
   "source": [
    "# Restrições"
   ]
  },
  {
   "cell_type": "code",
   "execution_count": 7,
   "id": "2a9cdc45",
   "metadata": {
    "ExecuteTime": {
     "end_time": "2022-04-02T00:12:13.177547Z",
     "start_time": "2022-04-02T00:12:06.714879Z"
    }
   },
   "outputs": [],
   "source": [
    "# Demanda do cliente: A demanda dos clientes j por cada produto p deve ser igual a soma das toneladas \n",
    "# de cada produto p transportadas de cada fábrica f\n",
    "r0 = model.addConstrs((\n",
    "    gp.quicksum(py[p][f][j] for f in range(F)) == D[j][p]\n",
    "    for p in range(P)\n",
    "    for j in range(J)\n",
    "), name='demanda');"
   ]
  },
  {
   "cell_type": "code",
   "execution_count": 8,
   "id": "ae7e33de",
   "metadata": {
    "ExecuteTime": {
     "end_time": "2022-04-02T00:12:16.214625Z",
     "start_time": "2022-04-02T00:12:13.179016Z"
    }
   },
   "outputs": [],
   "source": [
    "# Quantidade de matéria prima: A quantidade de matéria prima m disponível em cada fábrica f deve ser maior ou igual\n",
    "# à quantidade necessária para produzir todos os pedidos feitos (quantidade produzida * quantidade necessaria)\n",
    "r1 = model.addConstrs((\n",
    "    gp.quicksum(mr[m][p][l] * px[p][l][f] for p in range(P) for l in range(L)) <= R[m][f]\n",
    "    for m in range(M)\n",
    "    for f in range(F)\n",
    "), name='material_disponivel');"
   ]
  },
  {
   "cell_type": "code",
   "execution_count": 9,
   "id": "99a05445",
   "metadata": {
    "ExecuteTime": {
     "end_time": "2022-04-02T00:12:16.350139Z",
     "start_time": "2022-04-02T00:12:16.216393Z"
    }
   },
   "outputs": [],
   "source": [
    "# Capacidade disponível de produção: A capacidade disponível de produção deve ser maior ou igual a quantidade total \n",
    "# de produção que deve ser realizada\n",
    "r2 = model.addConstrs((\n",
    "    gp.quicksum(px[p][l][f] for p in range(P)) <= C[l][f]\n",
    "    for l in range(L)\n",
    "    for f in range(F)\n",
    "), name='capacidade_disponivel');"
   ]
  },
  {
   "cell_type": "code",
   "execution_count": 10,
   "id": "e8c87560",
   "metadata": {
    "ExecuteTime": {
     "end_time": "2022-04-02T00:12:23.053165Z",
     "start_time": "2022-04-02T00:12:16.353540Z"
    }
   },
   "outputs": [],
   "source": [
    "# Relação entre quantidade transportada e produzida: A quantidade transportada deve ser igual a quantidade produzida\n",
    "r3 = model.addConstrs((\n",
    "    gp.quicksum(px[p][l][f] for l in range(L)) == gp.quicksum(py[p][f][j] for j in range(J))\n",
    "    for p in range(P)\n",
    "    for f in range(F)\n",
    "), name='relacao_produzida_transportada');"
   ]
  },
  {
   "cell_type": "code",
   "execution_count": 11,
   "id": "80a8a695",
   "metadata": {
    "ExecuteTime": {
     "end_time": "2022-04-02T00:12:23.059401Z",
     "start_time": "2022-04-02T00:12:23.054339Z"
    }
   },
   "outputs": [
    {
     "name": "stdout",
     "output_type": "stream",
     "text": [
      "Quantidade de Restrições = 4400\n"
     ]
    }
   ],
   "source": [
    "print(f\"Quantidade de Restrições = {len(r0) + len(r1) + len(r2) + len(r3)}\")"
   ]
  },
  {
   "cell_type": "markdown",
   "id": "f37c0451",
   "metadata": {},
   "source": [
    "# Função objetivo"
   ]
  },
  {
   "cell_type": "code",
   "execution_count": 12,
   "id": "9bdb7739",
   "metadata": {
    "ExecuteTime": {
     "end_time": "2022-04-02T00:12:39.515655Z",
     "start_time": "2022-04-02T00:12:23.061480Z"
    }
   },
   "outputs": [],
   "source": [
    "# o objetivo é minimizar o custo total de produção de todos os produtos em todas as máquinas de todas as fábricas\n",
    "# somado com o custo total de transporte de todos os produtos levados de todas as fábricas até todos os clientes\n",
    "\n",
    "custo_producao = gp.quicksum(px[p][l][f] * cp[p][l][f] for f in range(F) for l in range(L) for p in range(P))\n",
    "custo_transporte = gp.quicksum(py[p][f][j] * ct[p][f][j] for j in range(J) for f in range(F) for p in range(P))\n",
    "\n",
    "model.setObjective(custo_producao + custo_transporte, sense=gp.GRB.MINIMIZE)"
   ]
  },
  {
   "cell_type": "markdown",
   "id": "e158e172",
   "metadata": {},
   "source": [
    "# Resultado"
   ]
  },
  {
   "cell_type": "code",
   "execution_count": 13,
   "id": "81ae91b3",
   "metadata": {
    "ExecuteTime": {
     "end_time": "2022-04-02T00:12:40.321527Z",
     "start_time": "2022-04-02T00:12:39.516847Z"
    }
   },
   "outputs": [
    {
     "name": "stdout",
     "output_type": "stream",
     "text": [
      "Gurobi Optimizer version 9.5.1 build v9.5.1rc2 (linux64)\n",
      "Thread count: 4 physical cores, 8 logical processors, using up to 8 threads\n",
      "Optimize a model with 4400 rows, 128400 columns and 332400 nonzeros\n",
      "Model fingerprint: 0x7993c639\n",
      "Coefficient statistics:\n",
      "  Matrix range     [1e+00, 5e+00]\n",
      "  Objective range  [1e+01, 1e+02]\n",
      "  Bounds range     [0e+00, 0e+00]\n",
      "  RHS range        [1e+01, 1e+03]\n",
      "\n",
      "Concurrent LP optimizer: dual simplex and barrier\n",
      "Showing barrier log only...\n",
      "\n",
      "Presolve time: 0.15s\n",
      "Presolved: 4400 rows, 128400 columns, 332400 nonzeros\n",
      "\n",
      "Ordering time: 0.07s\n",
      "\n",
      "Barrier statistics:\n",
      " AA' NZ     : 1.540e+05\n",
      " Factor NZ  : 7.378e+05 (roughly 60 MB of memory)\n",
      " Factor Ops : 3.229e+08 (less than 1 second per iteration)\n",
      " Threads    : 3\n",
      "\n",
      "                  Objective                Residual\n",
      "Iter       Primal          Dual         Primal    Dual     Compl     Time\n",
      "   0   2.24650513e+08  0.00000000e+00  1.48e+04 0.00e+00  4.46e+03     0s\n",
      "   1   2.51863866e+07 -1.88111660e+06  1.70e+03 4.26e-14  5.19e+02     0s\n",
      "   2   5.25750756e+05 -4.49471390e+05  5.14e-02 4.26e-14  7.46e+00     0s\n",
      "   3   3.78555102e+05  2.01636907e+05  8.72e-14 2.84e-14  1.35e+00     0s\n",
      "   4   3.22075049e+05  2.26252439e+05  1.95e-13 2.84e-14  7.33e-01     0s\n",
      "   5   3.02807648e+05  2.35877451e+05  1.35e-13 2.84e-14  5.12e-01     0s\n",
      "   6   2.90686714e+05  2.38739133e+05  4.13e-13 2.84e-14  3.97e-01     0s\n",
      "   7   2.76890299e+05  2.43420350e+05  2.43e-12 2.84e-14  2.56e-01     1s\n",
      "   8   2.69466802e+05  2.45122565e+05  1.32e-12 2.84e-14  1.86e-01     1s\n",
      "   9   2.60252034e+05  2.46841179e+05  7.33e-12 2.84e-14  1.03e-01     1s\n",
      "  10   2.51462037e+05  2.47777218e+05  8.26e-12 2.84e-14  2.82e-02     1s\n",
      "  11   2.49326452e+05  2.48204807e+05  3.38e-12 2.84e-14  8.58e-03     1s\n",
      "  12   2.48653463e+05  2.48288236e+05  5.25e-11 2.84e-14  2.79e-03     1s\n",
      "  13   2.48428718e+05  2.48297483e+05  1.86e-11 2.84e-14  1.00e-03     1s\n",
      "  14   2.48383173e+05  2.48376124e+05  2.43e-11 2.84e-14  5.39e-05     1s\n",
      "  15   2.48381407e+05  2.48381395e+05  8.58e-12 2.84e-14  9.38e-08     1s\n",
      "  16   2.48381400e+05  2.48381400e+05  7.58e-12 2.84e-14  9.38e-11     1s\n",
      "\n",
      "Barrier solved model in 16 iterations and 0.72 seconds (0.61 work units)\n",
      "Optimal objective 2.48381400e+05\n",
      "\n",
      "Crossover log...\n",
      "\n",
      "     986 DPushes remaining with DInf 0.0000000e+00                 1s\n",
      "       0 DPushes remaining with DInf 0.0000000e+00                 1s\n",
      "\n",
      "     862 PPushes remaining with PInf 0.0000000e+00                 1s\n",
      "       0 PPushes remaining with PInf 0.0000000e+00                 1s\n",
      "\n",
      "  Push phase complete: Pinf 0.0000000e+00, Dinf 0.0000000e+00      1s\n",
      "\n",
      "Iteration    Objective       Primal Inf.    Dual Inf.      Time\n",
      "    1851    2.4838140e+05   0.000000e+00   0.000000e+00      1s\n",
      "\n",
      "Solved with barrier\n",
      "Solved in 1851 iterations and 0.77 seconds (0.64 work units)\n",
      "Optimal objective  2.483814000e+05\n"
     ]
    }
   ],
   "source": [
    "model.optimize()\n",
    "end_time = time.time()"
   ]
  },
  {
   "cell_type": "code",
   "execution_count": 14,
   "id": "c7443e31",
   "metadata": {
    "ExecuteTime": {
     "end_time": "2022-04-02T00:12:40.325942Z",
     "start_time": "2022-04-02T00:12:40.323047Z"
    }
   },
   "outputs": [
    {
     "name": "stdout",
     "output_type": "stream",
     "text": [
      "Número de Iterações      = 1851\n",
      "Tempo de Execução        = 34.181384801864624 s\n",
      "Custo da Solução         = 248381.4\n"
     ]
    }
   ],
   "source": [
    "print(f\"Número de Iterações      = {int(model.IterCount)}\")\n",
    "print(f\"Tempo de Execução        = {end_time - start_time} s\")\n",
    "print(f\"Custo da Solução         = {model.objVal}\")"
   ]
  },
  {
   "cell_type": "raw",
   "id": "b71d922e",
   "metadata": {},
   "source": [
    "r0"
   ]
  }
 ],
 "metadata": {
  "kernelspec": {
   "display_name": "Python 3 (ipykernel)",
   "language": "python",
   "name": "python3"
  },
  "language_info": {
   "codemirror_mode": {
    "name": "ipython",
    "version": 3
   },
   "file_extension": ".py",
   "mimetype": "text/x-python",
   "name": "python",
   "nbconvert_exporter": "python",
   "pygments_lexer": "ipython3",
   "version": "3.10.4"
  }
 },
 "nbformat": 4,
 "nbformat_minor": 5
}
