{
 "cells": [
  {
   "cell_type": "code",
   "execution_count": 1,
   "id": "28994673",
   "metadata": {
    "ExecuteTime": {
     "end_time": "2022-04-01T21:36:33.396699Z",
     "start_time": "2022-04-01T21:36:33.299121Z"
    }
   },
   "outputs": [],
   "source": [
    "# Vinicius da Silva - 206734\n",
    "import gurobipy as gp\n",
    "import numpy as np"
   ]
  },
  {
   "cell_type": "code",
   "execution_count": 2,
   "id": "bbfb6217",
   "metadata": {
    "ExecuteTime": {
     "end_time": "2022-04-01T21:36:33.417163Z",
     "start_time": "2022-04-01T21:36:33.398777Z"
    }
   },
   "outputs": [],
   "source": [
    "#inicializações básicas\n",
    "model = gp.Model()\n",
    "qtd_clientes_J = 100\n",
    "qtd_fabricas_F = np.random.randint(qtd_clientes_J,2*qtd_clientes_J)\n",
    "qtd_maquinas_L = np.random.randint(5,11) #usamos 11 pq a função randint é do tipo [menor,maior[\n",
    "qtd_materiais_M = np.random.randint(5,11)\n",
    "qtd_produtos_P = np.random.randint(5,11)"
   ]
  },
  {
   "cell_type": "code",
   "execution_count": 3,
   "id": "854dfdff",
   "metadata": {
    "ExecuteTime": {
     "end_time": "2022-04-01T21:36:33.426878Z",
     "start_time": "2022-04-01T21:36:33.418794Z"
    }
   },
   "outputs": [],
   "source": [
    "# Parâmetros baseados nas inicializações\n",
    "\n",
    "# demanda do cliente j do produto p\n",
    "demanda_J_P = np.random.randint(10,21,size=(qtd_clientes_J,qtd_produtos_P))\n",
    "\n",
    "# material m necessario para produzir produto p na maquina l\n",
    "material_necessario_M_P_L = np.random.randint(1,6,size=(qtd_materiais_M,qtd_produtos_P,qtd_clientes_J))\n",
    "\n",
    "# material m disponivel na fabrica f\n",
    "material_disponivel_M_F = np.random.randint(800,1001,size=(qtd_materiais_M,qtd_fabricas_F))\n",
    "\n",
    "#capacidade de produção c da máquina l na fábrica f\n",
    "capacidade_disponivel_L_F = np.random.randint(80,101,size=(qtd_maquinas_L,qtd_fabricas_F))\n",
    "\n",
    "#custo de produção do produto p usando a máquina l na fábrica f\n",
    "custo_producao_P_L_F = np.random.randint(10,101,size=(qtd_produtos_P,qtd_maquinas_L,qtd_fabricas_F))\n",
    "\n",
    "# custo de transporte do produto p da fábrica f até o cliente j\n",
    "custo_transporte_P_F_J = np.random.randint(10,21,size=(qtd_produtos_P,qtd_fabricas_F,qtd_clientes_J))"
   ]
  },
  {
   "cell_type": "code",
   "execution_count": 4,
   "id": "436a4749",
   "metadata": {
    "ExecuteTime": {
     "end_time": "2022-04-01T21:36:33.999344Z",
     "start_time": "2022-04-01T21:36:33.429623Z"
    }
   },
   "outputs": [],
   "source": [
    "# Variáveis de decisão\n",
    "\n",
    "# Com base no modelo visto em sala, vamos usar o custo produzido e custo transportado de forma separada.\n",
    "# Assim também vamos utilizar a qtd produzida e transportada de forma separada, dado que a minimização da função \n",
    "# é baseada na soma das duas variáveis\n",
    "\n",
    "qtd_produzida = model.addMVar(\n",
    "    (qtd_produtos_P, qtd_maquinas_L, qtd_fabricas_F), \n",
    "    lb=0.0,\n",
    "    vtype=gp.GRB.CONTINUOUS,\n",
    "    name=\"qtd_produzida\",\n",
    ")\n",
    "qtd_transportada = model.addMVar(\n",
    "    (qtd_produtos_P, qtd_fabricas_F, qtd_clientes_J), \n",
    "    lb=0.0,\n",
    "    vtype=gp.GRB.CONTINUOUS,\n",
    "    name=\"qtd_transportada\",\n",
    ")"
   ]
  },
  {
   "cell_type": "code",
   "execution_count": 5,
   "id": "2a9cdc45",
   "metadata": {
    "ExecuteTime": {
     "end_time": "2022-04-01T21:36:41.749324Z",
     "start_time": "2022-04-01T21:36:34.000473Z"
    }
   },
   "outputs": [],
   "source": [
    "# Restrições\n",
    "\n",
    "# Demanda do cliente: A demanda dos clientes j por cada produto p deve ser igual a soma das toneladas \n",
    "# de cada produto p transportadas de cada fábrica f\n",
    "\n",
    "demanda = model.addConstrs((\n",
    "    gp.quicksum(qtd_transportada[p][f][j] for f in range(qtd_fabricas_F)) == demanda_J_P[j][p]\n",
    "    for p in range(qtd_produtos_P)\n",
    "    for j in range(qtd_clientes_J)\n",
    "), name='demanda')\n"
   ]
  },
  {
   "cell_type": "code",
   "execution_count": 6,
   "id": "ae7e33de",
   "metadata": {
    "ExecuteTime": {
     "end_time": "2022-04-01T21:36:44.421503Z",
     "start_time": "2022-04-01T21:36:41.750535Z"
    }
   },
   "outputs": [],
   "source": [
    "# Restrições\n",
    "\n",
    "# Quantidade de matéria prima: A quantidade de matéria prima m disponível em cada fábrica f deve ser maior ou igual\n",
    "# à quantidade necessária para produzir todos os pedidos feitos (quantidade produzida * quantidade necessaria)\n",
    "\n",
    "material_disponivel = model.addConstrs((\n",
    "    gp.quicksum(\n",
    "        material_necessario_M_P_L[m][p][l] * qtd_produzida[p][l][f] \n",
    "        for p in range(qtd_produtos_P)\n",
    "        for l in range(qtd_maquinas_L)\n",
    "    ) <= material_disponivel_M_F[m][f]\n",
    "    for m in range(qtd_materiais_M)\n",
    "    for f in range(qtd_fabricas_F)\n",
    "), name='material_disponivel')"
   ]
  },
  {
   "cell_type": "code",
   "execution_count": 7,
   "id": "99a05445",
   "metadata": {
    "ExecuteTime": {
     "end_time": "2022-04-01T21:36:44.506123Z",
     "start_time": "2022-04-01T21:36:44.422828Z"
    }
   },
   "outputs": [],
   "source": [
    "# Restrições\n",
    "\n",
    "# Capacidade disponível de produção: A capacidade disponível de produção deve ser maior ou igual a quantidade total \n",
    "# de produção que deve ser realizada\n",
    "\n",
    "capacidade_producao = model.addConstrs((\n",
    "    gp.quicksum(qtd_produzida[p][l][f] for p in range(qtd_produtos_P)) <= capacidade_disponivel_L_F[l][f]\n",
    "    for l in range(qtd_maquinas_L)\n",
    "    for f in range(qtd_fabricas_F)\n",
    "), name='capacidade_disponivel')"
   ]
  },
  {
   "cell_type": "code",
   "execution_count": 8,
   "id": "e8c87560",
   "metadata": {
    "ExecuteTime": {
     "end_time": "2022-04-01T21:36:52.165636Z",
     "start_time": "2022-04-01T21:36:44.507512Z"
    }
   },
   "outputs": [],
   "source": [
    "# Restrições\n",
    "\n",
    "# Relação entre quantidade transportada e produzida: A quantidade transportada deve ser igual a quantidade produzida\n",
    "\n",
    "relacao_produzida_transportada = model.addConstrs((\n",
    "    gp.quicksum(qtd_produzida[p][l][f] for l in range(qtd_maquinas_L)) \n",
    "    == \n",
    "    gp.quicksum(qtd_transportada[p][f][j] for j in range(qtd_clientes_J))\n",
    "    for p in range(qtd_produtos_P)\n",
    "    for f in range(qtd_fabricas_F)\n",
    "), name='relacao_produzida_transportada')"
   ]
  },
  {
   "cell_type": "code",
   "execution_count": 9,
   "id": "9bdb7739",
   "metadata": {
    "ExecuteTime": {
     "end_time": "2022-04-01T21:37:10.382007Z",
     "start_time": "2022-04-01T21:36:52.167272Z"
    }
   },
   "outputs": [],
   "source": [
    "# Função objetivo\n",
    "\n",
    "# o objetivo é minimizar o custo total de produção de todos os produtos em todas as máquinas de todas as fábricas\n",
    "# somado com o custo total de transporte de todos os produtos levados de todas as fábricas até todos os clientes\n",
    "\n",
    "custo_total_producao = gp.quicksum(\n",
    "    qtd_produzida[p][l][f] * custo_producao_P_L_F[p][l][f] \n",
    "    for f in range(qtd_fabricas_F)\n",
    "    for l in range(qtd_maquinas_L)\n",
    "    for p in range(qtd_produtos_P)\n",
    ")\n",
    "\n",
    "custo_total_transporte = gp.quicksum(\n",
    "    qtd_transportada[p][f][j] * custo_transporte_P_F_J[p][f][j] \n",
    "    for j in range(qtd_clientes_J)\n",
    "    for f in range(qtd_fabricas_F)\n",
    "    for p in range(qtd_produtos_P)\n",
    ")\n",
    "\n",
    "model.setObjective(custo_total_producao + custo_total_transporte, sense=gp.GRB.MINIMIZE)"
   ]
  },
  {
   "cell_type": "code",
   "execution_count": 10,
   "id": "81ae91b3",
   "metadata": {
    "ExecuteTime": {
     "end_time": "2022-04-01T21:37:11.302511Z",
     "start_time": "2022-04-01T21:37:10.383919Z"
    }
   },
   "outputs": [
    {
     "name": "stdout",
     "output_type": "stream",
     "text": [
      "Gurobi Optimizer version 9.5.1 build v9.5.1rc2 (linux64)\n",
      "Thread count: 4 physical cores, 8 logical processors, using up to 8 threads\n",
      "Optimize a model with 4388 rows, 131040 columns and 324480 nonzeros\n",
      "Model fingerprint: 0xab45a9c8\n",
      "Coefficient statistics:\n",
      "  Matrix range     [1e+00, 5e+00]\n",
      "  Objective range  [1e+01, 1e+02]\n",
      "  Bounds range     [0e+00, 0e+00]\n",
      "  RHS range        [1e+01, 1e+03]\n",
      "\n",
      "Concurrent LP optimizer: dual simplex and barrier\n",
      "Showing barrier log only...\n",
      "\n",
      "Presolve time: 0.17s\n",
      "Presolved: 4388 rows, 131040 columns, 324480 nonzeros\n",
      "\n",
      "Ordering time: 0.10s\n",
      "\n",
      "Barrier statistics:\n",
      " AA' NZ     : 1.583e+05\n",
      " Factor NZ  : 9.236e+05 (roughly 60 MB of memory)\n",
      " Factor Ops : 4.758e+08 (less than 1 second per iteration)\n",
      " Threads    : 3\n",
      "\n",
      "                  Objective                Residual\n",
      "Iter       Primal          Dual         Primal    Dual     Compl     Time\n",
      "   0   2.64583979e+08  0.00000000e+00  1.86e+04 0.00e+00  5.24e+03     0s\n",
      "   1   2.35279505e+07 -2.17258075e+06  1.67e+03 4.26e-14  4.84e+02     0s\n",
      "   2   5.39545772e+05 -4.16519735e+05  1.47e+00 4.26e-14  7.41e+00     0s\n",
      "   3   3.83001825e+05  1.92580719e+05  1.03e-13 2.84e-14  1.43e+00     1s\n",
      "   4   3.22629261e+05  2.24641919e+05  2.28e-13 2.84e-14  7.35e-01     1s\n",
      "   5   3.07078291e+05  2.29230122e+05  1.04e-13 2.84e-14  5.84e-01     1s\n",
      "   6   2.96381811e+05  2.40567888e+05  1.29e-13 2.84e-14  4.18e-01     1s\n",
      "   7   2.77457327e+05  2.45213102e+05  3.59e-13 2.84e-14  2.42e-01     1s\n",
      "   8   2.69686627e+05  2.47567993e+05  3.16e-13 2.84e-14  1.66e-01     1s\n",
      "   9   2.63327437e+05  2.49062672e+05  1.91e-12 2.84e-14  1.07e-01     1s\n",
      "  10   2.56848798e+05  2.50095513e+05  1.70e-11 2.84e-14  5.06e-02     1s\n",
      "  11   2.53000253e+05  2.50582768e+05  5.46e-12 2.84e-14  1.81e-02     1s\n",
      "  12   2.51773645e+05  2.50892169e+05  4.37e-12 2.84e-14  6.61e-03     1s\n",
      "  13   2.51087927e+05  2.51006410e+05  6.24e-11 2.84e-14  6.11e-04     1s\n",
      "  14   2.51029968e+05  2.51026706e+05  1.97e-11 2.84e-14  2.45e-05     1s\n",
      "  15   2.51026799e+05  2.51026776e+05  5.07e-10 2.84e-14  1.74e-07     1s\n",
      "\n",
      "Barrier performed 15 iterations in 0.87 seconds (0.71 work units)\n",
      "Barrier solve interrupted - model solved by another algorithm\n",
      "\n",
      "\n",
      "Solved with dual simplex\n",
      "Solved in 6573 iterations and 0.88 seconds (0.76 work units)\n",
      "Optimal objective  2.510267765e+05\n"
     ]
    }
   ],
   "source": [
    "model.optimize()"
   ]
  },
  {
   "cell_type": "code",
   "execution_count": 23,
   "id": "c7443e31",
   "metadata": {
    "ExecuteTime": {
     "end_time": "2022-04-01T21:42:44.264203Z",
     "start_time": "2022-04-01T21:42:44.258553Z"
    }
   },
   "outputs": [
    {
     "name": "stdout",
     "output_type": "stream",
     "text": [
      "\n",
      "Statistics for model_copy:\n",
      "  Linear constraint matrix    : 4388 Constrs, 131040 Vars, 324480 NZs\n",
      "  Matrix coefficient range    : [ 1, 5 ]\n",
      "  Objective coefficient range : [ 10, 100 ]\n",
      "  Variable bound range        : [ 0, 0 ]\n",
      "  RHS coefficient range       : [ 10, 1000 ]\n"
     ]
    }
   ],
   "source": [
    "model.printStats()"
   ]
  }
 ],
 "metadata": {
  "kernelspec": {
   "display_name": "Python 3 (ipykernel)",
   "language": "python",
   "name": "python3"
  },
  "language_info": {
   "codemirror_mode": {
    "name": "ipython",
    "version": 3
   },
   "file_extension": ".py",
   "mimetype": "text/x-python",
   "name": "python",
   "nbconvert_exporter": "python",
   "pygments_lexer": "ipython3",
   "version": "3.10.4"
  }
 },
 "nbformat": 4,
 "nbformat_minor": 5
}
