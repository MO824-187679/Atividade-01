{
 "cells": [
  {
   "cell_type": "code",
   "execution_count": 5,
   "id": "653c43dd",
   "metadata": {
    "ExecuteTime": {
     "end_time": "2022-04-02T00:44:13.361333Z",
     "start_time": "2022-04-02T00:44:13.354777Z"
    }
   },
   "outputs": [],
   "source": [
    "import numpy as np\n",
    "import pandas as pd\n",
    "from matplotlib import pyplot as plt\n",
    "import seaborn as sns\n",
    "from io import StringIO\n",
    "\n",
    "sns.set_theme(context='paper', style='darkgrid', palette='muted', color_codes=True)"
   ]
  },
  {
   "cell_type": "code",
   "execution_count": 2,
   "id": "900aa1d9",
   "metadata": {
    "ExecuteTime": {
     "end_time": "2022-04-02T00:44:07.138941Z",
     "start_time": "2022-04-02T00:44:07.135136Z"
    }
   },
   "outputs": [],
   "source": [
    "def parse_time(text):\n",
    "    total = 0.0\n",
    "    \n",
    "    words = iter(text.split())\n",
    "    for count in words:\n",
    "        mod = next(words)\n",
    "        \n",
    "        num = float(count)\n",
    "        if mod.startswith('h'):\n",
    "            num *= 60 * 60\n",
    "        if mod.startswith('m'):\n",
    "            num *= 60\n",
    "        total += num\n",
    "    return total\n"
   ]
  },
  {
   "cell_type": "code",
   "execution_count": 3,
   "id": "ec80a47e",
   "metadata": {
    "ExecuteTime": {
     "end_time": "2022-04-02T00:44:07.155859Z",
     "start_time": "2022-04-02T00:44:07.140532Z"
    }
   },
   "outputs": [
    {
     "data": {
      "text/html": [
       "<div>\n",
       "<style scoped>\n",
       "    .dataframe tbody tr th:only-of-type {\n",
       "        vertical-align: middle;\n",
       "    }\n",
       "\n",
       "    .dataframe tbody tr th {\n",
       "        vertical-align: top;\n",
       "    }\n",
       "\n",
       "    .dataframe thead th {\n",
       "        text-align: right;\n",
       "    }\n",
       "</style>\n",
       "<table border=\"1\" class=\"dataframe\">\n",
       "  <thead>\n",
       "    <tr style=\"text-align: right;\">\n",
       "      <th></th>\n",
       "      <th>J</th>\n",
       "      <th>F</th>\n",
       "      <th>L</th>\n",
       "      <th>M</th>\n",
       "      <th>P</th>\n",
       "      <th>Vars.</th>\n",
       "      <th>Restrs.</th>\n",
       "      <th>Iters.</th>\n",
       "      <th>Tempo de Execução</th>\n",
       "      <th>Custo Final</th>\n",
       "      <th>tempo</th>\n",
       "    </tr>\n",
       "  </thead>\n",
       "  <tbody>\n",
       "    <tr>\n",
       "      <th>0</th>\n",
       "      <td>100</td>\n",
       "      <td>126</td>\n",
       "      <td>5</td>\n",
       "      <td>8</td>\n",
       "      <td>5</td>\n",
       "      <td>66150</td>\n",
       "      <td>2768</td>\n",
       "      <td>12753</td>\n",
       "      <td>8.9 s</td>\n",
       "      <td>160268.5</td>\n",
       "      <td>8.9</td>\n",
       "    </tr>\n",
       "    <tr>\n",
       "      <th>1</th>\n",
       "      <td>200</td>\n",
       "      <td>299</td>\n",
       "      <td>5</td>\n",
       "      <td>8</td>\n",
       "      <td>5</td>\n",
       "      <td>306475</td>\n",
       "      <td>6382</td>\n",
       "      <td>58689</td>\n",
       "      <td>5 min 13 s</td>\n",
       "      <td>309782.7</td>\n",
       "      <td>313.0</td>\n",
       "    </tr>\n",
       "    <tr>\n",
       "      <th>2</th>\n",
       "      <td>300</td>\n",
       "      <td>393</td>\n",
       "      <td>8</td>\n",
       "      <td>8</td>\n",
       "      <td>5</td>\n",
       "      <td>605220</td>\n",
       "      <td>9753</td>\n",
       "      <td>93678</td>\n",
       "      <td>26 min 37 s</td>\n",
       "      <td>455172.4</td>\n",
       "      <td>1597.0</td>\n",
       "    </tr>\n",
       "  </tbody>\n",
       "</table>\n",
       "</div>"
      ],
      "text/plain": [
       "    J    F    L    M    P    Vars.    Restrs.    Iters.  Tempo de Execução  \\\n",
       "0  100  126    5    8    5    66150       2768     12753            8.9 s    \n",
       "1  200  299    5    8    5   306475       6382     58689       5 min 13 s    \n",
       "2  300  393    8    8    5   605220       9753     93678      26 min 37 s    \n",
       "\n",
       "    Custo Final    tempo  \n",
       "0       160268.5     8.9  \n",
       "1       309782.7   313.0  \n",
       "2       455172.4  1597.0  "
      ]
     },
     "execution_count": 3,
     "metadata": {},
     "output_type": "execute_result"
    }
   ],
   "source": [
    "tabledata = StringIO(\"\"\"\n",
    "J & F & L & M & P & Vars. & Restrs. & Iters. &Tempo de Execução& Custo Final \n",
    "100 & 126 & 5 & 8 & 5 & 66150 & 2768 & 12753 & 8.9 s & 160268.5\n",
    "200 & 299 & 5 & 8 & 5 & 306475 & 6382 & 58689 & 5 min 13 s & 309782.7\n",
    "300 & 393 & 8 & 8 & 5 & 605220 & 9753 & 93678 & 26 min 37 s & 455172.4\n",
    "\"\"\")\n",
    "\n",
    "df = pd.read_csv(tabledata, sep=\"&\")\n",
    "df['tempo'] = np.asarray([parse_time(t) for t in df['Tempo de Execução']])\n",
    "df"
   ]
  },
  {
   "cell_type": "code",
   "execution_count": 8,
   "id": "c68b4041",
   "metadata": {
    "ExecuteTime": {
     "end_time": "2022-04-02T00:45:59.201354Z",
     "start_time": "2022-04-02T00:45:57.820035Z"
    }
   },
   "outputs": [
    {
     "data": {
      "image/png": "[encoded data removed]",
      "text/plain": [
       "<Figure size 432x288 with 1 Axes>"
      ]
     },
     "metadata": {},
     "output_type": "display_data"
    }
   ],
   "source": [
    "plt.scatter(df[' Vars. '], df['tempo'])\n",
    "plt.xlabel('Número de Variáveis')\n",
    "plt.ylabel('Tempo de Execução (s)')\n",
    "plt.savefig('relatorio/figuras/tempo_variaveis.pgf')"
   ]
  }
 ],
 "metadata": {
  "kernelspec": {
   "display_name": "Python 3 (ipykernel)",
   "language": "python",
   "name": "python3"
  },
  "language_info": {
   "codemirror_mode": {
    "name": "ipython",
    "version": 3
   },
   "file_extension": ".py",
   "mimetype": "text/x-python",
   "name": "python",
   "nbconvert_exporter": "python",
   "pygments_lexer": "ipython3",
   "version": "3.10.4"
  }
 },
 "nbformat": 4,
 "nbformat_minor": 5
}
